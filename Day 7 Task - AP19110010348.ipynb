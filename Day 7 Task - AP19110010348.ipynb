{
 "cells": [
  {
   "cell_type": "markdown",
   "metadata": {},
   "source": [
    "### Name - Chennapragada. V. S. S. Mani Saketh\n",
    "### Id Number - AP19110010348\n",
    "### Branch - CSE\n",
    "#### Day 7 Tasks -\n",
    "1. Write a pattern to display 4 digit numbers from list\n",
    "2. Write a python program to validate phone number using patterns"
   ]
  },
  {
   "cell_type": "markdown",
   "metadata": {},
   "source": [
    "#### 1. Write a pattern to display 4 digit numbers from list"
   ]
  },
  {
   "cell_type": "code",
   "execution_count": 1,
   "metadata": {},
   "outputs": [
    {
     "name": "stdout",
     "output_type": "stream",
     "text": [
      "Enter the size 5\n",
      "1234\n",
      "2345\n",
      "3456\n",
      "45678\n",
      "567890\n",
      "The four digit numbers are \n",
      "1234\n",
      "2345\n",
      "3456\n"
     ]
    }
   ],
   "source": [
    "import re\n",
    "\n",
    "ls = []\n",
    "n = int(input(\"Enter the size \"))\n",
    "for i in range(n):\n",
    "    a = input()\n",
    "    ls.append(a)\n",
    "print(\"The four digit numbers are \")\n",
    "for i in ls:\n",
    "    if (re.search('^\\d{4}$', i)):\n",
    "        print(i)\n",
    "    else:\n",
    "        pass"
   ]
  },
  {
   "cell_type": "markdown",
   "metadata": {},
   "source": [
    "#### 2. Write a python program to validate phone number using patterns"
   ]
  },
  {
   "cell_type": "code",
   "execution_count": 2,
   "metadata": {},
   "outputs": [
    {
     "name": "stdout",
     "output_type": "stream",
     "text": [
      "Enter the size 3\n",
      "8978448821\n",
      "9553189908\n",
      "090909090909090909\n",
      "The valid phone numbers are \n",
      "8978448821\n",
      "9553189908\n"
     ]
    }
   ],
   "source": [
    "ls = []\n",
    "n = int(input(\"Enter the size \"))\n",
    "for i in range(n):\n",
    "    a = input()\n",
    "    ls.append(a)\n",
    "print(\"The valid phone numbers are \")\n",
    "for i in ls:\n",
    "    if (re.search('^[789]\\d{9}$', i)):\n",
    "        print(i)\n",
    "    else:\n",
    "        pass"
   ]
  }
 ],
 "metadata": {
  "kernelspec": {
   "display_name": "Python 3",
   "language": "python",
   "name": "python3"
  },
  "language_info": {
   "codemirror_mode": {
    "name": "ipython",
    "version": 3
   },
   "file_extension": ".py",
   "mimetype": "text/x-python",
   "name": "python",
   "nbconvert_exporter": "python",
   "pygments_lexer": "ipython3",
   "version": "3.8.5"
  }
 },
 "nbformat": 4,
 "nbformat_minor": 4
}
