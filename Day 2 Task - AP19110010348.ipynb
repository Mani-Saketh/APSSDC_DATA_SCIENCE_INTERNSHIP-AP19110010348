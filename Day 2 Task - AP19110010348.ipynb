{
 "cells": [
  {
   "cell_type": "markdown",
   "metadata": {},
   "source": [
    "### Name - Chennapragada. V. S. S. Mani Saketh\n",
    "### Id Number - AP19110010348\n",
    "### Branch - CSE\n",
    "#### Day 2 Tasks -\n",
    "1. Write a program to check wheather the user eligible for vote or not\n",
    "2. Check the given number is positive or negative\n",
    "3. check the given number is even or odd if it's even check which is divisible by 4 or not\n",
    "4. write a program to print student grade based on persentage like Distinction,pass or fail\n",
    "5. Check the given year is Leap or not"
   ]
  },
  {
   "cell_type": "markdown",
   "metadata": {},
   "source": [
    "#### 1. Write a program to check whether the user eligible for vote or not"
   ]
  },
  {
   "cell_type": "code",
   "execution_count": 1,
   "metadata": {},
   "outputs": [
    {
     "name": "stdout",
     "output_type": "stream",
     "text": [
      "Please enter age of the person: 19\n",
      "The person is eligible to vote\n"
     ]
    }
   ],
   "source": [
    "person_age = int(input(\"Please enter age of the person: \"))\n",
    "if person_age>=18:\n",
    "    print(\"The person is eligible to vote\")\n",
    "else:\n",
    "    print(\"The person is not eligible to vote\")"
   ]
  },
  {
   "cell_type": "markdown",
   "metadata": {},
   "source": [
    "#### 2. Check the given number is positive or negative"
   ]
  },
  {
   "cell_type": "code",
   "execution_count": 2,
   "metadata": {},
   "outputs": [
    {
     "name": "stdout",
     "output_type": "stream",
     "text": [
      "Enter any number: 30\n",
      "The Given Number is a positive number and the given number is 30.0\n"
     ]
    }
   ],
   "source": [
    "given_number = float(input(\"Enter any number: \"))\n",
    "if given_number>0:\n",
    "    print(\"The Given Number is a positive number and the given number is {}\".format(given_number))\n",
    "elif given_number<0:\n",
    "    print(\"The Given Number is a negative number and the given number is {}\".format(given_number))\n",
    "else:\n",
    "    print(\"The Given Number is 0\")"
   ]
  },
  {
   "cell_type": "markdown",
   "metadata": {},
   "source": [
    "#### 3. Check the given number is even or odd if it's even check which is divisible by 4 or not"
   ]
  },
  {
   "cell_type": "code",
   "execution_count": 3,
   "metadata": {},
   "outputs": [
    {
     "name": "stdout",
     "output_type": "stream",
     "text": [
      "Enter any integer: 36\n",
      "The Number is an even number\n",
      "The Given Number - 36 is divisible by 4\n"
     ]
    }
   ],
   "source": [
    "given_number = int(input(\"Enter any integer: \"))\n",
    "if given_number%2==0:\n",
    "    print(\"The Number is an even number\")\n",
    "    if given_number%4==0:\n",
    "        print(\"The Given Number - {} is divisible by 4\".format(given_number))\n",
    "    else:\n",
    "        print(\"The Given Number - {} is not divisible by 4\".format(given_number))\n",
    "else:\n",
    "    print(\"The Number is an odd number\")"
   ]
  },
  {
   "cell_type": "markdown",
   "metadata": {},
   "source": [
    "#### 4. Write a program to print student grade based on percentage like Distinction,pass or fail \n",
    "##### Method-1\n"
   ]
  },
  {
   "cell_type": "code",
   "execution_count": 4,
   "metadata": {},
   "outputs": [
    {
     "name": "stdout",
     "output_type": "stream",
     "text": [
      "Enter the student's percentage: 99\n",
      "The percentage scored is 99.0 and the student got distinction\n"
     ]
    }
   ],
   "source": [
    "percentage = float(input(\"Enter the student's percentage: \"))\n",
    "if percentage>=80:\n",
    "    print(\"The percentage scored is {} and the student got distinction\".format(percentage))\n",
    "elif percentage>=50:\n",
    "    print(\"The percentage scored is {} and the student got passed in examinations\".format(percentage))\n",
    "else:\n",
    "    print(\"The percentage scored is {} and the student got failed in examinations\".format(percentage))"
   ]
  },
  {
   "cell_type": "markdown",
   "metadata": {},
   "source": [
    "##### Method-2"
   ]
  },
  {
   "cell_type": "code",
   "execution_count": 5,
   "metadata": {},
   "outputs": [
    {
     "name": "stdout",
     "output_type": "stream",
     "text": [
      "Enter total number for subjects: 5\n",
      "Enter marks of each subject\n",
      "100\n",
      "95\n",
      "100\n",
      "95\n",
      "100\n",
      "The percentage of marks is 98.0\n",
      "The student got distinction\n"
     ]
    }
   ],
   "source": [
    "total_subjects = int(input(\"Enter total number for subjects: \"))\n",
    "print(\"Enter marks of each subject\")\n",
    "total_marks = total_subjects*100\n",
    "scored_marks = 0\n",
    "for i in range(total_subjects):\n",
    "    mark = float(input())\n",
    "    scored_marks += mark \n",
    "perc = (scored_marks/total_marks)*100\n",
    "print(\"The percentage of marks is {}\".format(round(perc, 2)))\n",
    "if perc>=80:\n",
    "    print(\"The student got distinction\")\n",
    "elif perc>=50:\n",
    "    print(\"The student got passed in examinations\")\n",
    "else:\n",
    "    print(\"The student got failed in examinations\")"
   ]
  },
  {
   "cell_type": "markdown",
   "metadata": {},
   "source": [
    "##### Method-3"
   ]
  },
  {
   "cell_type": "code",
   "execution_count": 6,
   "metadata": {},
   "outputs": [
    {
     "name": "stdout",
     "output_type": "stream",
     "text": [
      "Enter sub1 Marks: 100\n",
      "Enter sub2 Marks: 98\n",
      "Enter sub3 Marks: 100\n",
      "The percentage of marks is 99.33\n",
      "The student got distinction\n"
     ]
    }
   ],
   "source": [
    "#Sample example by taking three subjects\n",
    "sub1 = float(input(\"Enter sub1 Marks: \"))\n",
    "sub2  = float(input(\"Enter sub2 Marks: \"))\n",
    "sub3 = float(input(\"Enter sub3 Marks: \"))\n",
    "total = sub1 + sub2 + sub3\n",
    "percentage = (total / 300) * 100\n",
    "print(\"The percentage of marks is {}\".format(round(percentage, 2)))\n",
    "if percentage>=80:\n",
    "    print(\"The student got distinction\")\n",
    "elif percentage>=50:\n",
    "    print(\"The student got passed in examinations\")\n",
    "else:\n",
    "    print(\"The student got failed in examinations\")"
   ]
  },
  {
   "cell_type": "markdown",
   "metadata": {},
   "source": [
    "#### 5. Check the given year is Leap or not"
   ]
  },
  {
   "cell_type": "code",
   "execution_count": 7,
   "metadata": {},
   "outputs": [
    {
     "name": "stdout",
     "output_type": "stream",
     "text": [
      "Enter Year: 2020\n",
      "2020 is a Leap Year\n"
     ]
    }
   ],
   "source": [
    "Year = int(input(\"Enter Year: \"))\n",
    "if Year % 4 == 0 and Year % 100 != 0:\n",
    "    print(Year, \"is a Leap Year\")\n",
    "elif Year % 100 == 0:\n",
    "    print(Year, \"is not a Leap Year\")\n",
    "elif Year % 400 ==0:\n",
    "    print(Year, \"is a Leap Year\")\n",
    "else:\n",
    "    print(Year, \"is not a Leap Year\")"
   ]
  }
 ],
 "metadata": {
  "kernelspec": {
   "display_name": "Python 3",
   "language": "python",
   "name": "python3"
  },
  "language_info": {
   "codemirror_mode": {
    "name": "ipython",
    "version": 3
   },
   "file_extension": ".py",
   "mimetype": "text/x-python",
   "name": "python",
   "nbconvert_exporter": "python",
   "pygments_lexer": "ipython3",
   "version": "3.8.5"
  }
 },
 "nbformat": 4,
 "nbformat_minor": 4
}
