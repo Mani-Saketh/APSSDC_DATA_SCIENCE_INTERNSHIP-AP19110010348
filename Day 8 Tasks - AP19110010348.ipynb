{
 "cells": [
  {
   "cell_type": "markdown",
   "metadata": {},
   "source": [
    "### Name - Chennapragada. V. S. S. Mani Saketh\n",
    "### Id Number - AP19110010348\n",
    "### Branch - CSE\n",
    "#### Day 8 Tasks -\n",
    "1. Create a function for finding the leap years within the given range\n",
    "2. Create a function for getting the armstrong numbers within the given range\n",
    "3. Create a function for getting the prime numbers within the range\n",
    "4. Create a function for finding the count of elements in a string. \"Srm university\""
   ]
  },
  {
   "cell_type": "markdown",
   "metadata": {},
   "source": [
    "#### 1. Create a function for finding the leap years within the given range"
   ]
  },
  {
   "cell_type": "code",
   "execution_count": 1,
   "metadata": {},
   "outputs": [
    {
     "name": "stdout",
     "output_type": "stream",
     "text": [
      "Enter Starting Year: 1800\n",
      "Enter Ending Year: 2020\n",
      "1804\t1808\t1812\t1816\t1820\t1824\t1828\t1832\t1836\t1840\t1844\t1848\t1852\t1856\t1860\t1864\t1868\t1872\t1876\t1880\t1884\t1888\t1892\t1896\t1904\t1908\t1912\t1916\t1920\t1924\t1928\t1932\t1936\t1940\t1944\t1948\t1952\t1956\t1960\t1964\t1968\t1972\t1976\t1980\t1984\t1988\t1992\t1996\t2000\t2004\t2008\t2012\t2016\t2020\t"
     ]
    }
   ],
   "source": [
    "def leap_year():\n",
    "    n1 = int(input(\"Enter Starting Year: \"))\n",
    "    n2 = int(input(\"Enter Ending Year: \"))\n",
    "    for i in range(n1,n2+1):\n",
    "        if i%4==0 and i%100!=0:\n",
    "            print(i,end = \"\\t\")\n",
    "        elif i%400==0:\n",
    "            print(i,end = \"\\t\")\n",
    "        else:\n",
    "            continue\n",
    "leap_year()"
   ]
  },
  {
   "cell_type": "markdown",
   "metadata": {},
   "source": [
    "#### 2. Create a function for getting the armstrong numbers within the given range "
   ]
  },
  {
   "cell_type": "code",
   "execution_count": 2,
   "metadata": {},
   "outputs": [
    {
     "name": "stdout",
     "output_type": "stream",
     "text": [
      "Enter the first number: 1\n",
      "Enter the second number: 2000\n",
      "1\n",
      "2\n",
      "3\n",
      "4\n",
      "5\n",
      "6\n",
      "7\n",
      "8\n",
      "9\n",
      "153\n",
      "370\n",
      "371\n",
      "407\n",
      "1634\n"
     ]
    }
   ],
   "source": [
    "def armstr():\n",
    "    n1 = int(input(\"Enter the first number: \"))\n",
    "    n2 = int(input(\"Enter the second number: \"))\n",
    "    for i in range(n1,n2+1):\n",
    "        order = len(str(i))\n",
    "        sum = 0\n",
    "        temp = i\n",
    "        while temp > 0:\n",
    "            digit = temp % 10\n",
    "            sum += digit ** order\n",
    "            temp //= 10\n",
    "        if i==sum:\n",
    "            print(i)\n",
    "        else:\n",
    "            continue\n",
    "armstr()"
   ]
  },
  {
   "cell_type": "markdown",
   "metadata": {},
   "source": [
    "#### 3. Create a function for getting the prime numbers within the range"
   ]
  },
  {
   "cell_type": "code",
   "execution_count": 3,
   "metadata": {},
   "outputs": [
    {
     "name": "stdout",
     "output_type": "stream",
     "text": [
      "Enter lower range: 1\n",
      "Enter upper range: 50\n",
      "1\n",
      "2\n",
      "3\n",
      "5\n",
      "7\n",
      "11\n",
      "13\n",
      "17\n",
      "19\n",
      "23\n",
      "29\n",
      "31\n",
      "37\n",
      "41\n",
      "43\n",
      "47\n"
     ]
    }
   ],
   "source": [
    "def prime():    \n",
    "    n1 = int(input(\"Enter lower range: \"))  \n",
    "    n2 = int(input(\"Enter upper range: \"))  \n",
    "    for number in range(n1, n2+1):\n",
    "        for i in range(2, number):\n",
    "            if number%i == 0:\n",
    "                break\n",
    "        else:\n",
    "            print(number)\n",
    "prime()"
   ]
  },
  {
   "cell_type": "markdown",
   "metadata": {},
   "source": [
    "#### 4. Create a function for finding the count of elements in a string. \"Srm university\""
   ]
  },
  {
   "cell_type": "code",
   "execution_count": 4,
   "metadata": {},
   "outputs": [
    {
     "name": "stdout",
     "output_type": "stream",
     "text": [
      "Enter the string: SRM University\n",
      "The Count of elements in the string given is 14\n"
     ]
    }
   ],
   "source": [
    "def countst():\n",
    "    str1 = str(input(\"Enter the string: \"))\n",
    "    count_str = 0\n",
    "    for i in str1:\n",
    "        count_str = count_str + 1\n",
    "    print(\"The Count of elements in the string given is {}\".format(count_str))\n",
    "countst()"
   ]
  }
 ],
 "metadata": {
  "kernelspec": {
   "display_name": "Python 3",
   "language": "python",
   "name": "python3"
  },
  "language_info": {
   "codemirror_mode": {
    "name": "ipython",
    "version": 3
   },
   "file_extension": ".py",
   "mimetype": "text/x-python",
   "name": "python",
   "nbconvert_exporter": "python",
   "pygments_lexer": "ipython3",
   "version": "3.8.5"
  }
 },
 "nbformat": 4,
 "nbformat_minor": 4
}
