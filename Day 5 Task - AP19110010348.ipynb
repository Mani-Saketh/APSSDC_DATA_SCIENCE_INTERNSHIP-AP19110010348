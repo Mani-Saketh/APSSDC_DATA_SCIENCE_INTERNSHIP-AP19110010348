{
 "cells": [
  {
   "cell_type": "markdown",
   "metadata": {},
   "source": [
    "### Name - Chennapragada. V. S. S. Mani Saketh\n",
    "### Id Number - AP19110010348\n",
    "### Branch - CSE\n",
    "#### Day 5 Tasks -\n",
    "1. Write a python function that takes two lists and returns True if they have atleast one common member"
   ]
  },
  {
   "cell_type": "code",
   "execution_count": 1,
   "metadata": {},
   "outputs": [
    {
     "name": "stdout",
     "output_type": "stream",
     "text": [
      "Enter Size of List 1 : 3\n",
      "Enter Size of List 2 : 3\n",
      "Enter elements of list 1: \n",
      "12\n",
      "23\n",
      "34\n",
      "Enter elements of list 2: \n",
      "45\n",
      "56\n",
      "67\n",
      "The required result is:  False\n"
     ]
    }
   ],
   "source": [
    "l1 = []\n",
    "l2 = []\n",
    "n1 = int(input(\"Enter Size of List 1 : \"))\n",
    "n2 = int(input(\"Enter Size of List 2 : \"))\n",
    "print(\"Enter elements of list 1: \")\n",
    "for i in range(n1):\n",
    "    item1 = int(input())\n",
    "    l1.append(item1)\n",
    "print(\"Enter elements of list 2: \")\n",
    "for j in range(n2):\n",
    "    item2 = int(input())\n",
    "    l2.append(item2)\n",
    "def common(lists1, lists2):\n",
    "    flag = False\n",
    "    for i in lists1:\n",
    "        if (i in lists2):\n",
    "            flag = True\n",
    "        else:\n",
    "            pass\n",
    "    return flag\n",
    "result = common(l1, l2)\n",
    "print(\"The required result is: \",result)"
   ]
  },
  {
   "cell_type": "code",
   "execution_count": 2,
   "metadata": {},
   "outputs": [
    {
     "name": "stdout",
     "output_type": "stream",
     "text": [
      "Enter Size of List 1 : 3\n",
      "Enter Size of List 2 : 3\n",
      "Enter elements of list 1: \n",
      "12\n",
      "23\n",
      "34\n",
      "Enter elements of list 2: \n",
      "34\n",
      "45\n",
      "56\n",
      "The required result is:  True\n"
     ]
    }
   ],
   "source": [
    "l1 = []\n",
    "l2 = []\n",
    "n1 = int(input(\"Enter Size of List 1 : \"))\n",
    "n2 = int(input(\"Enter Size of List 2 : \"))\n",
    "print(\"Enter elements of list 1: \")\n",
    "for i in range(n1):\n",
    "    item1 = int(input())\n",
    "    l1.append(item1)\n",
    "print(\"Enter elements of list 2: \")\n",
    "for j in range(n2):\n",
    "    item2 = int(input())\n",
    "    l2.append(item2)\n",
    "def common(lists1, lists2):\n",
    "    flag = False\n",
    "    for i in lists1:\n",
    "        if (i in lists2):\n",
    "            flag = True\n",
    "        else:\n",
    "            pass\n",
    "    return flag\n",
    "result = common(l1, l2)\n",
    "print(\"The required result is: \",result)"
   ]
  }
 ],
 "metadata": {
  "kernelspec": {
   "display_name": "Python 3",
   "language": "python",
   "name": "python3"
  },
  "language_info": {
   "codemirror_mode": {
    "name": "ipython",
    "version": 3
   },
   "file_extension": ".py",
   "mimetype": "text/x-python",
   "name": "python",
   "nbconvert_exporter": "python",
   "pygments_lexer": "ipython3",
   "version": "3.8.5"
  }
 },
 "nbformat": 4,
 "nbformat_minor": 4
}
