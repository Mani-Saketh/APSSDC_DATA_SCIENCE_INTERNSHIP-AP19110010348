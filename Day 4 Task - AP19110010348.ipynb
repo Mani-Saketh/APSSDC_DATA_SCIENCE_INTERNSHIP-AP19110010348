{
 "cells": [
  {
   "cell_type": "markdown",
   "metadata": {},
   "source": [
    "### Name - Chennapragada. V. S. S. Mani Saketh\n",
    "### Id Number - AP19110010348\n",
    "### Branch - CSE\n",
    "#### Day 4 Tasks -\n",
    "1. take input from the user.\n",
    "    check the length of the string even or odd\n",
    "    if the string length is odd access one middle character\n",
    "    If the string length is even access two middle characters"
   ]
  },
  {
   "cell_type": "code",
   "execution_count": 1,
   "metadata": {},
   "outputs": [
    {
     "name": "stdout",
     "output_type": "stream",
     "text": [
      "Enter any string: ManiSaketh\n",
      "The Length of string is even where the length of string is 10\n",
      "The middle character(s) is:  Sa\n"
     ]
    }
   ],
   "source": [
    "str1 = str(input(\"Enter any string: \"))\n",
    "if len(str1)%2==0:\n",
    "    print(\"The Length of string is even where the length of string is {}\".format(len(str1)))\n",
    "    print(\"The middle character(s) is: \",str1[((len(str1)-1)//2):((len(str1)+2)//2)])\n",
    "else:\n",
    "    print(\"The Length of string is odd where the length of string is {}\".format(len(str1)))\n",
    "    print(\"The middle character is: \",str1[(len(str1)-1)//2])"
   ]
  },
  {
   "cell_type": "code",
   "execution_count": 2,
   "metadata": {},
   "outputs": [
    {
     "name": "stdout",
     "output_type": "stream",
     "text": [
      "Enter any string: Rocking\n",
      "The Length of string is odd where the length of string is 7\n",
      "The middle character is:  k\n"
     ]
    }
   ],
   "source": [
    "str1 = str(input(\"Enter any string: \"))\n",
    "if len(str1)%2==0:\n",
    "    print(\"The Length of string is even where the length of string is {}\".format(len(str1)))\n",
    "    print(\"The middle character(s) is: \",str1[((len(str1)-1)//2):((len(str1)+2)//2)])\n",
    "else:\n",
    "    print(\"The Length of string is odd where the length of string is {}\".format(len(str1)))\n",
    "    print(\"The middle character is: \",str1[(len(str1)-1)//2])"
   ]
  }
 ],
 "metadata": {
  "kernelspec": {
   "display_name": "Python 3",
   "language": "python",
   "name": "python3"
  },
  "language_info": {
   "codemirror_mode": {
    "name": "ipython",
    "version": 3
   },
   "file_extension": ".py",
   "mimetype": "text/x-python",
   "name": "python",
   "nbconvert_exporter": "python",
   "pygments_lexer": "ipython3",
   "version": "3.8.5"
  }
 },
 "nbformat": 4,
 "nbformat_minor": 4
}
